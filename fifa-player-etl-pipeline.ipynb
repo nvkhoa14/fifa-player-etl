{
 "cells": [
  {
   "cell_type": "markdown",
   "metadata": {},
   "source": [
    "## **Introduction**\n",
    "<b>SoFIFA</b> (https://sofifa.com/) is a website that stores data of players in the popular soccer game FIFA whose stats closely reflect the performance of real-life soccer players.\n"
   ]
  },
  {
   "cell_type": "markdown",
   "metadata": {},
   "source": [
    "## **Import library**"
   ]
  },
  {
   "cell_type": "markdown",
   "metadata": {},
   "source": [
    "Since our collected data will be very large, I will collect data quickly by using a library called `scrapy`.\n",
    "\n",
    "For more information on how to use this library, you can refer to the following website: https://docs.scrapy.org/en/latest/intro/tutorial.html."
   ]
  },
  {
   "cell_type": "code",
   "execution_count": null,
   "metadata": {},
   "outputs": [],
   "source": [
    "!pip install scrapy\n",
    "!pip install spider3\n",
    "!pip install pandas"
   ]
  },
  {
   "cell_type": "markdown",
   "metadata": {},
   "source": [
    "***Library***:\n",
    "- `pandas`: Use to transform data having parsed from *sofifa* HTML.\n",
    "- `json`: read and write the data that was extracted from *sofifa*.\n",
    "- `np`, `datetime`\n",
    "- `re`(`regex`): deal with string data."
   ]
  },
  {
   "cell_type": "code",
   "execution_count": 16,
   "metadata": {},
   "outputs": [],
   "source": [
    "import pandas as pd\n",
    "import json\n",
    "import numpy as np\n",
    "from datetime import datetime\n",
    "import re"
   ]
  },
  {
   "cell_type": "markdown",
   "metadata": {},
   "source": [
    "## **Extract**"
   ]
  },
  {
   "cell_type": "markdown",
   "metadata": {},
   "source": [
    "- Go to \"fifa_crawler\" directory to access **extract** process."
   ]
  },
  {
   "cell_type": "code",
   "execution_count": null,
   "metadata": {},
   "outputs": [],
   "source": [
    "%cd fifa_crawler"
   ]
  },
  {
   "cell_type": "markdown",
   "metadata": {},
   "source": [
    "- To avoid **hitting** the site too many times, instead of collecting all the player IDs we only collect 720 player IDs. To make it easier, we start with a urls path containing offset format: https://sofifa.com/players?col=oa&sort=desc&offset=0 (each player page with each page containing 60 different players) so that we can easily switch to a new page while collecting.\n",
    "\n",
    "- Because `scrapy` can't use notebook directly so I create a file **collect_players_urls.py** in ***fifa_crawler/fifa_crawler/spiders/collect_players_urls.py*** and run it by the command blow  to collect the IDs of the soccer players and save them to a file named **players_urls.json** which is contained in the *dataset* folder."
   ]
  },
  {
   "cell_type": "code",
   "execution_count": null,
   "metadata": {},
   "outputs": [],
   "source": [
    "!scrapy crawl players_urls -o dataset/players_urls.json"
   ]
  },
  {
   "cell_type": "markdown",
   "metadata": {},
   "source": [
    "- Do the same as **players_urls** above. After finishing a list of 720 player IDs extracted from the SoFIFA website, we will collect specific data for each player corresponding to these IDs by completing the class **collect_player_info** in ***fifa_crawler/fifa_crawler/spiders/collect_players_info.py*** and run the command below to extract information from HTML."
   ]
  },
  {
   "cell_type": "code",
   "execution_count": null,
   "metadata": {},
   "outputs": [],
   "source": [
    "!scrapy crawl players_info -o dataset/players_info.json"
   ]
  },
  {
   "cell_type": "code",
   "execution_count": null,
   "metadata": {},
   "outputs": [],
   "source": [
    "%cd .."
   ]
  },
  {
   "cell_type": "markdown",
   "metadata": {},
   "source": [
    "## Transform"
   ]
  },
  {
   "cell_type": "code",
   "execution_count": 19,
   "metadata": {},
   "outputs": [
    {
     "data": {
      "text/html": [
       "<div>\n",
       "<style scoped>\n",
       "    .dataframe tbody tr th:only-of-type {\n",
       "        vertical-align: middle;\n",
       "    }\n",
       "\n",
       "    .dataframe tbody tr th {\n",
       "        vertical-align: top;\n",
       "    }\n",
       "\n",
       "    .dataframe thead th {\n",
       "        text-align: right;\n",
       "    }\n",
       "</style>\n",
       "<table border=\"1\" class=\"dataframe\">\n",
       "  <thead>\n",
       "    <tr style=\"text-align: right;\">\n",
       "      <th></th>\n",
       "      <th>id</th>\n",
       "      <th>name</th>\n",
       "      <th>positions</th>\n",
       "      <th>age</th>\n",
       "      <th>birth_date</th>\n",
       "      <th>height</th>\n",
       "      <th>weight</th>\n",
       "      <th>Overall rating</th>\n",
       "      <th>Potential</th>\n",
       "      <th>Value</th>\n",
       "      <th>...</th>\n",
       "      <th>teams</th>\n",
       "      <th>Player specialities</th>\n",
       "      <th>Attacking</th>\n",
       "      <th>Skill</th>\n",
       "      <th>Movement</th>\n",
       "      <th>Power</th>\n",
       "      <th>Mentality</th>\n",
       "      <th>Defending</th>\n",
       "      <th>Goalkeeping</th>\n",
       "      <th>PlayStyles</th>\n",
       "    </tr>\n",
       "  </thead>\n",
       "  <tbody>\n",
       "    <tr>\n",
       "      <th>0</th>\n",
       "      <td>239085</td>\n",
       "      <td>Erling Braut Håland</td>\n",
       "      <td>[ST]</td>\n",
       "      <td>23</td>\n",
       "      <td>Jul 21, 2000</td>\n",
       "      <td>195</td>\n",
       "      <td>94</td>\n",
       "      <td>91</td>\n",
       "      <td>93</td>\n",
       "      <td>€172.5M</td>\n",
       "      <td>...</td>\n",
       "      <td>{' Manchester City': '86 ', ' Norway': '77 '}</td>\n",
       "      <td>[#Aerial threat, #Distance shooter, #Strength,...</td>\n",
       "      <td>{'Crossing': '58', 'Finishing': '96', 'Heading...</td>\n",
       "      <td>{'Dribbling': '79', 'Curve': '77', 'FK Accurac...</td>\n",
       "      <td>{'Acceleration': '80', 'Sprint speed': '94', '...</td>\n",
       "      <td>{'Shot power': '94', 'Jumping': '92', 'Stamina...</td>\n",
       "      <td>{'Aggression': '88', 'Interceptions': '43', 'A...</td>\n",
       "      <td>{'Defensive awareness': '38', 'Standing tackle...</td>\n",
       "      <td>{'GK Diving': '7', 'GK Handling': '14', 'GK Ki...</td>\n",
       "      <td>[Power Shot, Power Header, Bruiser, Press Proven]</td>\n",
       "    </tr>\n",
       "    <tr>\n",
       "      <th>1</th>\n",
       "      <td>231866</td>\n",
       "      <td>Rodrigo Hernández Cascante</td>\n",
       "      <td>[CDM, CM]</td>\n",
       "      <td>28</td>\n",
       "      <td>Jun 22, 1996</td>\n",
       "      <td>191</td>\n",
       "      <td>82</td>\n",
       "      <td>91</td>\n",
       "      <td>91</td>\n",
       "      <td>€115.5M</td>\n",
       "      <td>...</td>\n",
       "      <td>{' Manchester City': '86 ', ' Spain': '84 '}</td>\n",
       "      <td>[#Distance shooter]</td>\n",
       "      <td>{'Crossing': '76', 'Finishing': '74', 'Heading...</td>\n",
       "      <td>{'Dribbling': '84', 'Curve': '86', 'FK Accurac...</td>\n",
       "      <td>{'Acceleration': '65', 'Sprint speed': '66', '...</td>\n",
       "      <td>{'Shot power': '92', 'Jumping': '83', 'Stamina...</td>\n",
       "      <td>{'Aggression': '85', 'Interceptions': '84', 'A...</td>\n",
       "      <td>{'Defensive awareness': '92', 'Standing tackle...</td>\n",
       "      <td>{'GK Diving': '10', 'GK Handling': '10', 'GK K...</td>\n",
       "      <td>[Power Shot, Long Ball Pass, Bruiser, Press Pr...</td>\n",
       "    </tr>\n",
       "    <tr>\n",
       "      <th>2</th>\n",
       "      <td>231747</td>\n",
       "      <td>Kylian Mbappé Lottin</td>\n",
       "      <td>[ST, LW]</td>\n",
       "      <td>25</td>\n",
       "      <td>Dec 20, 1998</td>\n",
       "      <td>182</td>\n",
       "      <td>75</td>\n",
       "      <td>91</td>\n",
       "      <td>94</td>\n",
       "      <td>€176M</td>\n",
       "      <td>...</td>\n",
       "      <td>{' Real Madrid': '86 ', ' France': '84 '}</td>\n",
       "      <td>[#Speedster, #Dribbler, #Acrobat, #Clinical fi...</td>\n",
       "      <td>{'Crossing': '78', 'Finishing': '94', 'Heading...</td>\n",
       "      <td>{'Dribbling': '93', 'Curve': '80', 'FK Accurac...</td>\n",
       "      <td>{'Acceleration': '97', 'Sprint speed': '97', '...</td>\n",
       "      <td>{'Shot power': '90', 'Jumping': '88', 'Stamina...</td>\n",
       "      <td>{'Aggression': '64', 'Interceptions': '38', 'A...</td>\n",
       "      <td>{'Defensive awareness': '26', 'Standing tackle...</td>\n",
       "      <td>{'GK Diving': '13', 'GK Handling': '5', 'GK Ki...</td>\n",
       "      <td>[Finesse Shot, Rapid, Flair, Trivela, Acrobati...</td>\n",
       "    </tr>\n",
       "    <tr>\n",
       "      <th>3</th>\n",
       "      <td>252371</td>\n",
       "      <td>Jude Victor William Bellingham</td>\n",
       "      <td>[CAM, CM]</td>\n",
       "      <td>21</td>\n",
       "      <td>Jun 29, 2003</td>\n",
       "      <td>186</td>\n",
       "      <td>75</td>\n",
       "      <td>90</td>\n",
       "      <td>94</td>\n",
       "      <td>€174.5M</td>\n",
       "      <td>...</td>\n",
       "      <td>{' Real Madrid': '86 ', ' England': '85 '}</td>\n",
       "      <td>[#Dribbler, #Playmaker , #Clinical finisher, #...</td>\n",
       "      <td>{'Crossing': '66', 'Finishing': '90', 'Heading...</td>\n",
       "      <td>{'Dribbling': '89', 'Curve': '73', 'FK Accurac...</td>\n",
       "      <td>{'Acceleration': '81', 'Sprint speed': '80', '...</td>\n",
       "      <td>{'Shot power': '85', 'Jumping': '84', 'Stamina...</td>\n",
       "      <td>{'Aggression': '85', 'Interceptions': '82', 'A...</td>\n",
       "      <td>{'Defensive awareness': '77', 'Standing tackle...</td>\n",
       "      <td>{'GK Diving': '14', 'GK Handling': '11', 'GK K...</td>\n",
       "      <td>[Intercept, Slide Tackle, Technical, Flair]</td>\n",
       "    </tr>\n",
       "    <tr>\n",
       "      <th>4</th>\n",
       "      <td>238794</td>\n",
       "      <td>Vinicius José Paixão de Oliveira Junior</td>\n",
       "      <td>[LW, ST]</td>\n",
       "      <td>23</td>\n",
       "      <td>Jul 12, 2000</td>\n",
       "      <td>176</td>\n",
       "      <td>73</td>\n",
       "      <td>90</td>\n",
       "      <td>94</td>\n",
       "      <td>€171.5M</td>\n",
       "      <td>...</td>\n",
       "      <td>{' Real Madrid': '86 ', 'null': None}</td>\n",
       "      <td>[#Speedster, #Dribbler, #Acrobat, #Clinical fi...</td>\n",
       "      <td>{'Crossing': '81', 'Finishing': '89', 'Heading...</td>\n",
       "      <td>{'Dribbling': '93', 'Curve': '79', 'FK Accurac...</td>\n",
       "      <td>{'Acceleration': '95', 'Sprint speed': '95', '...</td>\n",
       "      <td>{'Shot power': '81', 'Jumping': '74', 'Stamina...</td>\n",
       "      <td>{'Aggression': '58', 'Interceptions': '26', 'A...</td>\n",
       "      <td>{'Defensive awareness': '32', 'Standing tackle...</td>\n",
       "      <td>{'GK Diving': '5', 'GK Handling': '7', 'GK Kic...</td>\n",
       "      <td>[Finesse Shot, Chip Shot, Rapid, Flair, First ...</td>\n",
       "    </tr>\n",
       "  </tbody>\n",
       "</table>\n",
       "<p>5 rows × 29 columns</p>\n",
       "</div>"
      ],
      "text/plain": [
       "       id                                     name  positions  age  \\\n",
       "0  239085                      Erling Braut Håland       [ST]   23   \n",
       "1  231866               Rodrigo Hernández Cascante  [CDM, CM]   28   \n",
       "2  231747                     Kylian Mbappé Lottin   [ST, LW]   25   \n",
       "3  252371           Jude Victor William Bellingham  [CAM, CM]   21   \n",
       "4  238794  Vinicius José Paixão de Oliveira Junior   [LW, ST]   23   \n",
       "\n",
       "     birth_date  height  weight  Overall rating  Potential    Value  ...  \\\n",
       "0  Jul 21, 2000     195      94              91         93  €172.5M  ...   \n",
       "1  Jun 22, 1996     191      82              91         91  €115.5M  ...   \n",
       "2  Dec 20, 1998     182      75              91         94    €176M  ...   \n",
       "3  Jun 29, 2003     186      75              90         94  €174.5M  ...   \n",
       "4  Jul 12, 2000     176      73              90         94  €171.5M  ...   \n",
       "\n",
       "                                           teams  \\\n",
       "0  {' Manchester City': '86 ', ' Norway': '77 '}   \n",
       "1   {' Manchester City': '86 ', ' Spain': '84 '}   \n",
       "2      {' Real Madrid': '86 ', ' France': '84 '}   \n",
       "3     {' Real Madrid': '86 ', ' England': '85 '}   \n",
       "4          {' Real Madrid': '86 ', 'null': None}   \n",
       "\n",
       "                                 Player specialities  \\\n",
       "0  [#Aerial threat, #Distance shooter, #Strength,...   \n",
       "1                                [#Distance shooter]   \n",
       "2  [#Speedster, #Dribbler, #Acrobat, #Clinical fi...   \n",
       "3  [#Dribbler, #Playmaker , #Clinical finisher, #...   \n",
       "4  [#Speedster, #Dribbler, #Acrobat, #Clinical fi...   \n",
       "\n",
       "                                           Attacking  \\\n",
       "0  {'Crossing': '58', 'Finishing': '96', 'Heading...   \n",
       "1  {'Crossing': '76', 'Finishing': '74', 'Heading...   \n",
       "2  {'Crossing': '78', 'Finishing': '94', 'Heading...   \n",
       "3  {'Crossing': '66', 'Finishing': '90', 'Heading...   \n",
       "4  {'Crossing': '81', 'Finishing': '89', 'Heading...   \n",
       "\n",
       "                                               Skill  \\\n",
       "0  {'Dribbling': '79', 'Curve': '77', 'FK Accurac...   \n",
       "1  {'Dribbling': '84', 'Curve': '86', 'FK Accurac...   \n",
       "2  {'Dribbling': '93', 'Curve': '80', 'FK Accurac...   \n",
       "3  {'Dribbling': '89', 'Curve': '73', 'FK Accurac...   \n",
       "4  {'Dribbling': '93', 'Curve': '79', 'FK Accurac...   \n",
       "\n",
       "                                            Movement  \\\n",
       "0  {'Acceleration': '80', 'Sprint speed': '94', '...   \n",
       "1  {'Acceleration': '65', 'Sprint speed': '66', '...   \n",
       "2  {'Acceleration': '97', 'Sprint speed': '97', '...   \n",
       "3  {'Acceleration': '81', 'Sprint speed': '80', '...   \n",
       "4  {'Acceleration': '95', 'Sprint speed': '95', '...   \n",
       "\n",
       "                                               Power  \\\n",
       "0  {'Shot power': '94', 'Jumping': '92', 'Stamina...   \n",
       "1  {'Shot power': '92', 'Jumping': '83', 'Stamina...   \n",
       "2  {'Shot power': '90', 'Jumping': '88', 'Stamina...   \n",
       "3  {'Shot power': '85', 'Jumping': '84', 'Stamina...   \n",
       "4  {'Shot power': '81', 'Jumping': '74', 'Stamina...   \n",
       "\n",
       "                                           Mentality  \\\n",
       "0  {'Aggression': '88', 'Interceptions': '43', 'A...   \n",
       "1  {'Aggression': '85', 'Interceptions': '84', 'A...   \n",
       "2  {'Aggression': '64', 'Interceptions': '38', 'A...   \n",
       "3  {'Aggression': '85', 'Interceptions': '82', 'A...   \n",
       "4  {'Aggression': '58', 'Interceptions': '26', 'A...   \n",
       "\n",
       "                                           Defending  \\\n",
       "0  {'Defensive awareness': '38', 'Standing tackle...   \n",
       "1  {'Defensive awareness': '92', 'Standing tackle...   \n",
       "2  {'Defensive awareness': '26', 'Standing tackle...   \n",
       "3  {'Defensive awareness': '77', 'Standing tackle...   \n",
       "4  {'Defensive awareness': '32', 'Standing tackle...   \n",
       "\n",
       "                                         Goalkeeping  \\\n",
       "0  {'GK Diving': '7', 'GK Handling': '14', 'GK Ki...   \n",
       "1  {'GK Diving': '10', 'GK Handling': '10', 'GK K...   \n",
       "2  {'GK Diving': '13', 'GK Handling': '5', 'GK Ki...   \n",
       "3  {'GK Diving': '14', 'GK Handling': '11', 'GK K...   \n",
       "4  {'GK Diving': '5', 'GK Handling': '7', 'GK Kic...   \n",
       "\n",
       "                                          PlayStyles  \n",
       "0  [Power Shot, Power Header, Bruiser, Press Proven]  \n",
       "1  [Power Shot, Long Ball Pass, Bruiser, Press Pr...  \n",
       "2  [Finesse Shot, Rapid, Flair, Trivela, Acrobati...  \n",
       "3        [Intercept, Slide Tackle, Technical, Flair]  \n",
       "4  [Finesse Shot, Chip Shot, Rapid, Flair, First ...  \n",
       "\n",
       "[5 rows x 29 columns]"
      ]
     },
     "execution_count": 19,
     "metadata": {},
     "output_type": "execute_result"
    }
   ],
   "source": [
    "df = pd.read_json('./fifa_crawler/dataset/players_info.json')\n",
    "df.head()"
   ]
  },
  {
   "cell_type": "code",
   "execution_count": 148,
   "metadata": {},
   "outputs": [
    {
     "name": "stdout",
     "output_type": "stream",
     "text": [
      "<class 'pandas.core.frame.DataFrame'>\n",
      "RangeIndex: 41 entries, 0 to 40\n",
      "Data columns (total 29 columns):\n",
      " #   Column                    Non-Null Count  Dtype \n",
      "---  ------                    --------------  ----- \n",
      " 0   id                        41 non-null     int64 \n",
      " 1   name                      41 non-null     object\n",
      " 2   positions                 41 non-null     object\n",
      " 3   age                       41 non-null     int64 \n",
      " 4   birth_date                41 non-null     object\n",
      " 5   height                    41 non-null     int64 \n",
      " 6   weight                    41 non-null     int64 \n",
      " 7   Overall rating            41 non-null     int64 \n",
      " 8   Potential                 41 non-null     int64 \n",
      " 9   Value                     41 non-null     object\n",
      " 10  Wage                      41 non-null     object\n",
      " 11  Preferred foot            41 non-null     object\n",
      " 12  Skill moves               41 non-null     int64 \n",
      " 13  Weak foot                 41 non-null     int64 \n",
      " 14  International reputation  41 non-null     int64 \n",
      " 15  Body type                 41 non-null     object\n",
      " 16  Real face                 41 non-null     object\n",
      " 17  Release clause            40 non-null     object\n",
      " 18  Acceleration Type         41 non-null     object\n",
      " 19  teams                     41 non-null     object\n",
      " 20  Player specialities       41 non-null     object\n",
      " 21  Attacking                 41 non-null     object\n",
      " 22  Skill                     41 non-null     object\n",
      " 23  Movement                  41 non-null     object\n",
      " 24  Power                     41 non-null     object\n",
      " 25  Mentality                 41 non-null     object\n",
      " 26  Defending                 41 non-null     object\n",
      " 27  Goalkeeping               41 non-null     object\n",
      " 28  PlayStyles                41 non-null     object\n",
      "dtypes: int64(9), object(20)\n",
      "memory usage: 9.4+ KB\n"
     ]
    }
   ],
   "source": [
    "df.info()"
   ]
  },
  {
   "cell_type": "markdown",
   "metadata": {},
   "source": [
    "### Split player's attributes"
   ]
  },
  {
   "cell_type": "markdown",
   "metadata": {},
   "source": [
    "- *'Attacking', 'Skill', 'Movement', 'Power', 'Mentality', 'Defending', 'Goalkeeping'* columns are dictionary(key - value). So we should split it to another dataframe for more interactive and futher analysis.\n",
    "- New dataframe contains specific attribute and player's id(PK)."
   ]
  },
  {
   "cell_type": "code",
   "execution_count": null,
   "metadata": {},
   "outputs": [],
   "source": [
    "def split_player_attributes(df):\n",
    "    split_columns = ['Attacking', 'Skill', 'Movement', 'Power',\n",
    "       'Mentality', 'Defending', 'Goalkeeping']\n",
    "    for col in split_columns:\n",
    "        dict = [{'id' : int(df['id'].values[i])} for i in range(len(df))]\n",
    "        [dict[i].update(df[col].values[i]) for i in range(len(df))]             # Create a new dictionary with id and specific attribute\n",
    "        split_df = pd.json_normalize(dict)                                      # Conver json to dataframe\n",
    "        split_df.to_csv('./fifa_transform_load/transform_data/attributes/{}_attribute.csv'.format(col), index= False)   # Store\n",
    "        df.drop(col, axis= 1, inplace= True)                                    # Remove column from player's dataframe"
   ]
  },
  {
   "cell_type": "code",
   "execution_count": 150,
   "metadata": {},
   "outputs": [],
   "source": [
    "split_player_attributes(df)"
   ]
  },
  {
   "cell_type": "markdown",
   "metadata": {},
   "source": [
    "### Category to numeric."
   ]
  },
  {
   "cell_type": "code",
   "execution_count": null,
   "metadata": {},
   "outputs": [],
   "source": [
    "def cate_to_numer(cols):\n",
    "    cols = cols.fillna(\"0\")                         # Handle NaN value\n",
    "    cols = cols.map(lambda x: x.replace('€', '')).map(lambda x: float(x.replace('M', '')) * 10**6 if x[-1] == 'M' \n",
    "                                                  else float(x.replace('K', '')) * 10**3)                         \n",
    "    return cols"
   ]
  },
  {
   "cell_type": "markdown",
   "metadata": {},
   "source": [
    "1. Wage and Value to numeric."
   ]
  },
  {
   "cell_type": "code",
   "execution_count": 152,
   "metadata": {},
   "outputs": [
    {
     "data": {
      "text/plain": [
       "array(['€172.5M', '€115.5M', '€176M', '€174.5M', '€171.5M', '€117.5M',\n",
       "       '€73.5M', '€114.5M', '€98.5M', '€122.5M', '€54.5M', '€82M', '€67M',\n",
       "       '€51M', '€133.5M', '€84M', '€120M', '€118.5M', '€86M', '€89M',\n",
       "       '€61M', '€62.5M', '€48.5M', '€58.5M', '€39M', '€29.5M', '€128M',\n",
       "       '€105.5M', '€92M', '€88.5M', '€85M', '€85.5M', '€101.5M', '€91M',\n",
       "       '€84.5M', '€68M', '€78M', '€77M', '€65.5M', '€42M'], dtype=object)"
      ]
     },
     "execution_count": 152,
     "metadata": {},
     "output_type": "execute_result"
    }
   ],
   "source": [
    "df['Value'].unique()"
   ]
  },
  {
   "cell_type": "code",
   "execution_count": 153,
   "metadata": {},
   "outputs": [],
   "source": [
    "df[['Value', 'Wage']] = cate_to_numer(df[['Value', 'Wage']])"
   ]
  },
  {
   "cell_type": "markdown",
   "metadata": {},
   "source": [
    "2. Release clause to numeric."
   ]
  },
  {
   "cell_type": "markdown",
   "metadata": {},
   "source": [
    "- Release clasue has Nan value."
   ]
  },
  {
   "cell_type": "code",
   "execution_count": 154,
   "metadata": {},
   "outputs": [
    {
     "data": {
      "text/plain": [
       "array([' €332.1M', ' €213.7M', ' €374M', ' €370.8M', ' €364.4M',\n",
       "       ' €193.9M', ' €136M', ' €188.9M', ' €194.5M', ' €235.8M',\n",
       "       ' €100.8M', ' €151.7M', ' €124M', ' €104.6M', ' €230.3M',\n",
       "       ' €155.4M', ' €255M', ' €228.1M', ' €152.7M', ' €164.7M',\n",
       "       ' €112.9M', ' €128.1M', ' €101.9M', ' €122.9M', ' €80M', ' €41.3M',\n",
       "       ' €236.8M', ' €203.1M', ' €177.1M', ' €163.6M', ' €151.8M', nan,\n",
       "       ' €193.4M', ' €139.4M', ' €120.7M', ' €148.2M', ' €130.9M',\n",
       "       ' €124.5M', ' €79.8M'], dtype=object)"
      ]
     },
     "execution_count": 154,
     "metadata": {},
     "output_type": "execute_result"
    }
   ],
   "source": [
    "df['Release clause'].unique()"
   ]
  },
  {
   "cell_type": "code",
   "execution_count": 155,
   "metadata": {},
   "outputs": [],
   "source": [
    "df['Release clause'] = cate_to_numer(df['Release clause'])"
   ]
  },
  {
   "cell_type": "markdown",
   "metadata": {},
   "source": [
    "### Birthdate to '%Y-%m-%d'"
   ]
  },
  {
   "cell_type": "markdown",
   "metadata": {},
   "source": [
    "- Change birthdate values to daytime format."
   ]
  },
  {
   "cell_type": "code",
   "execution_count": 156,
   "metadata": {},
   "outputs": [],
   "source": [
    "df['birth_date'] = df['birth_date'].apply(lambda x: datetime.strptime(x, \"%b %d, %Y\"))"
   ]
  },
  {
   "cell_type": "markdown",
   "metadata": {},
   "source": [
    "### Split 'teams' data to 'Club' and 'National Team'"
   ]
  },
  {
   "cell_type": "markdown",
   "metadata": {},
   "source": [
    "- Teams values are dictionary so we split it into two columns 'Club' and 'National Team'."
   ]
  },
  {
   "cell_type": "code",
   "execution_count": 157,
   "metadata": {},
   "outputs": [],
   "source": [
    "df['Club'] = [list(df['teams'].values[i])[0] for i in range(len(df))]\n",
    "df['National Team'] = [list(df['teams'].values[i])[1] for i in range(len(df))]\n",
    "df.drop('teams', axis = 1, inplace = True)"
   ]
  },
  {
   "cell_type": "markdown",
   "metadata": {},
   "source": [
    "### Remove specific characters in 'Player specialities'.\n"
   ]
  },
  {
   "cell_type": "code",
   "execution_count": null,
   "metadata": {},
   "outputs": [],
   "source": [
    "def remove_char(specialities):\n",
    "    new = [s.split('\\xa0')[0] for s in specialities]        # Remove non-breaking space '\\xa0'\n",
    "    if not new:                                               \n",
    "        new = 'null'                                        # Remove empty lists\n",
    "    return new"
   ]
  },
  {
   "cell_type": "code",
   "execution_count": 159,
   "metadata": {},
   "outputs": [],
   "source": [
    "df['Player specialities'] = df['Player specialities'].apply(remove_char)"
   ]
  },
  {
   "cell_type": "markdown",
   "metadata": {},
   "source": [
    "## Load "
   ]
  },
  {
   "cell_type": "code",
   "execution_count": 161,
   "metadata": {},
   "outputs": [
    {
     "data": {
      "text/html": [
       "<div>\n",
       "<style scoped>\n",
       "    .dataframe tbody tr th:only-of-type {\n",
       "        vertical-align: middle;\n",
       "    }\n",
       "\n",
       "    .dataframe tbody tr th {\n",
       "        vertical-align: top;\n",
       "    }\n",
       "\n",
       "    .dataframe thead th {\n",
       "        text-align: right;\n",
       "    }\n",
       "</style>\n",
       "<table border=\"1\" class=\"dataframe\">\n",
       "  <thead>\n",
       "    <tr style=\"text-align: right;\">\n",
       "      <th></th>\n",
       "      <th>id</th>\n",
       "      <th>name</th>\n",
       "      <th>positions</th>\n",
       "      <th>age</th>\n",
       "      <th>birth_date</th>\n",
       "      <th>height</th>\n",
       "      <th>weight</th>\n",
       "      <th>Overall rating</th>\n",
       "      <th>Potential</th>\n",
       "      <th>Value</th>\n",
       "      <th>...</th>\n",
       "      <th>Weak foot</th>\n",
       "      <th>International reputation</th>\n",
       "      <th>Body type</th>\n",
       "      <th>Real face</th>\n",
       "      <th>Release clause</th>\n",
       "      <th>Acceleration Type</th>\n",
       "      <th>Player specialities</th>\n",
       "      <th>PlayStyles</th>\n",
       "      <th>Club</th>\n",
       "      <th>National Team</th>\n",
       "    </tr>\n",
       "  </thead>\n",
       "  <tbody>\n",
       "    <tr>\n",
       "      <th>0</th>\n",
       "      <td>239085</td>\n",
       "      <td>Erling Braut Håland</td>\n",
       "      <td>[ST]</td>\n",
       "      <td>23</td>\n",
       "      <td>2000-07-21</td>\n",
       "      <td>195</td>\n",
       "      <td>94</td>\n",
       "      <td>91</td>\n",
       "      <td>93</td>\n",
       "      <td>172500000.0</td>\n",
       "      <td>...</td>\n",
       "      <td>3</td>\n",
       "      <td>5</td>\n",
       "      <td>Unique</td>\n",
       "      <td>Yes</td>\n",
       "      <td>332100000.0</td>\n",
       "      <td>Controlled Lengthy</td>\n",
       "      <td>[#Aerial threat, #Distance shooter, #Strength,...</td>\n",
       "      <td>[Power Shot, Power Header, Bruiser, Press Proven]</td>\n",
       "      <td>Manchester City</td>\n",
       "      <td>Norway</td>\n",
       "    </tr>\n",
       "    <tr>\n",
       "      <th>1</th>\n",
       "      <td>231866</td>\n",
       "      <td>Rodrigo Hernández Cascante</td>\n",
       "      <td>[CDM, CM]</td>\n",
       "      <td>28</td>\n",
       "      <td>1996-06-22</td>\n",
       "      <td>191</td>\n",
       "      <td>82</td>\n",
       "      <td>91</td>\n",
       "      <td>91</td>\n",
       "      <td>115500000.0</td>\n",
       "      <td>...</td>\n",
       "      <td>4</td>\n",
       "      <td>5</td>\n",
       "      <td>Normal (185+)</td>\n",
       "      <td>Yes</td>\n",
       "      <td>213700000.0</td>\n",
       "      <td>Controlled Lengthy</td>\n",
       "      <td>[#Distance shooter]</td>\n",
       "      <td>[Power Shot, Long Ball Pass, Bruiser, Press Pr...</td>\n",
       "      <td>Manchester City</td>\n",
       "      <td>Spain</td>\n",
       "    </tr>\n",
       "    <tr>\n",
       "      <th>2</th>\n",
       "      <td>231747</td>\n",
       "      <td>Kylian Mbappé Lottin</td>\n",
       "      <td>[ST, LW]</td>\n",
       "      <td>25</td>\n",
       "      <td>1998-12-20</td>\n",
       "      <td>182</td>\n",
       "      <td>75</td>\n",
       "      <td>91</td>\n",
       "      <td>94</td>\n",
       "      <td>176000000.0</td>\n",
       "      <td>...</td>\n",
       "      <td>4</td>\n",
       "      <td>5</td>\n",
       "      <td>Unique</td>\n",
       "      <td>Yes</td>\n",
       "      <td>374000000.0</td>\n",
       "      <td>Mostly Explosive</td>\n",
       "      <td>[#Speedster, #Dribbler, #Acrobat, #Clinical fi...</td>\n",
       "      <td>[Finesse Shot, Rapid, Flair, Trivela, Acrobati...</td>\n",
       "      <td>Real Madrid</td>\n",
       "      <td>France</td>\n",
       "    </tr>\n",
       "    <tr>\n",
       "      <th>3</th>\n",
       "      <td>252371</td>\n",
       "      <td>Jude Victor William Bellingham</td>\n",
       "      <td>[CAM, CM]</td>\n",
       "      <td>21</td>\n",
       "      <td>2003-06-29</td>\n",
       "      <td>186</td>\n",
       "      <td>75</td>\n",
       "      <td>90</td>\n",
       "      <td>94</td>\n",
       "      <td>174500000.0</td>\n",
       "      <td>...</td>\n",
       "      <td>4</td>\n",
       "      <td>5</td>\n",
       "      <td>Normal (170-185)</td>\n",
       "      <td>Yes</td>\n",
       "      <td>370800000.0</td>\n",
       "      <td>Controlled Lengthy</td>\n",
       "      <td>[#Dribbler, #Playmaker, #Clinical finisher, #C...</td>\n",
       "      <td>[Intercept, Slide Tackle, Technical, Flair]</td>\n",
       "      <td>Real Madrid</td>\n",
       "      <td>England</td>\n",
       "    </tr>\n",
       "    <tr>\n",
       "      <th>4</th>\n",
       "      <td>238794</td>\n",
       "      <td>Vinicius José Paixão de Oliveira Junior</td>\n",
       "      <td>[LW, ST]</td>\n",
       "      <td>23</td>\n",
       "      <td>2000-07-12</td>\n",
       "      <td>176</td>\n",
       "      <td>73</td>\n",
       "      <td>90</td>\n",
       "      <td>94</td>\n",
       "      <td>171500000.0</td>\n",
       "      <td>...</td>\n",
       "      <td>4</td>\n",
       "      <td>5</td>\n",
       "      <td>Lean (170-185)</td>\n",
       "      <td>Yes</td>\n",
       "      <td>364400000.0</td>\n",
       "      <td>Mostly Explosive</td>\n",
       "      <td>[#Speedster, #Dribbler, #Acrobat, #Clinical fi...</td>\n",
       "      <td>[Finesse Shot, Chip Shot, Rapid, Flair, First ...</td>\n",
       "      <td>Real Madrid</td>\n",
       "      <td>null</td>\n",
       "    </tr>\n",
       "  </tbody>\n",
       "</table>\n",
       "<p>5 rows × 23 columns</p>\n",
       "</div>"
      ],
      "text/plain": [
       "       id                                     name  positions  age birth_date  \\\n",
       "0  239085                      Erling Braut Håland       [ST]   23 2000-07-21   \n",
       "1  231866               Rodrigo Hernández Cascante  [CDM, CM]   28 1996-06-22   \n",
       "2  231747                     Kylian Mbappé Lottin   [ST, LW]   25 1998-12-20   \n",
       "3  252371           Jude Victor William Bellingham  [CAM, CM]   21 2003-06-29   \n",
       "4  238794  Vinicius José Paixão de Oliveira Junior   [LW, ST]   23 2000-07-12   \n",
       "\n",
       "   height  weight  Overall rating  Potential        Value  ...  Weak foot  \\\n",
       "0     195      94              91         93  172500000.0  ...          3   \n",
       "1     191      82              91         91  115500000.0  ...          4   \n",
       "2     182      75              91         94  176000000.0  ...          4   \n",
       "3     186      75              90         94  174500000.0  ...          4   \n",
       "4     176      73              90         94  171500000.0  ...          4   \n",
       "\n",
       "  International reputation          Body type  Real face  Release clause  \\\n",
       "0                        5             Unique        Yes     332100000.0   \n",
       "1                        5      Normal (185+)        Yes     213700000.0   \n",
       "2                        5             Unique        Yes     374000000.0   \n",
       "3                        5   Normal (170-185)        Yes     370800000.0   \n",
       "4                        5     Lean (170-185)        Yes     364400000.0   \n",
       "\n",
       "     Acceleration Type                                Player specialities  \\\n",
       "0   Controlled Lengthy  [#Aerial threat, #Distance shooter, #Strength,...   \n",
       "1   Controlled Lengthy                                [#Distance shooter]   \n",
       "2     Mostly Explosive  [#Speedster, #Dribbler, #Acrobat, #Clinical fi...   \n",
       "3   Controlled Lengthy  [#Dribbler, #Playmaker, #Clinical finisher, #C...   \n",
       "4     Mostly Explosive  [#Speedster, #Dribbler, #Acrobat, #Clinical fi...   \n",
       "\n",
       "                                          PlayStyles              Club  \\\n",
       "0  [Power Shot, Power Header, Bruiser, Press Proven]   Manchester City   \n",
       "1  [Power Shot, Long Ball Pass, Bruiser, Press Pr...   Manchester City   \n",
       "2  [Finesse Shot, Rapid, Flair, Trivela, Acrobati...       Real Madrid   \n",
       "3        [Intercept, Slide Tackle, Technical, Flair]       Real Madrid   \n",
       "4  [Finesse Shot, Chip Shot, Rapid, Flair, First ...       Real Madrid   \n",
       "\n",
       "  National Team  \n",
       "0        Norway  \n",
       "1         Spain  \n",
       "2        France  \n",
       "3       England  \n",
       "4          null  \n",
       "\n",
       "[5 rows x 23 columns]"
      ]
     },
     "execution_count": 161,
     "metadata": {},
     "output_type": "execute_result"
    }
   ],
   "source": [
    "df.head(5)"
   ]
  },
  {
   "cell_type": "code",
   "execution_count": 162,
   "metadata": {},
   "outputs": [
    {
     "name": "stdout",
     "output_type": "stream",
     "text": [
      "<class 'pandas.core.frame.DataFrame'>\n",
      "RangeIndex: 41 entries, 0 to 40\n",
      "Data columns (total 23 columns):\n",
      " #   Column                    Non-Null Count  Dtype         \n",
      "---  ------                    --------------  -----         \n",
      " 0   id                        41 non-null     int64         \n",
      " 1   name                      41 non-null     object        \n",
      " 2   positions                 41 non-null     object        \n",
      " 3   age                       41 non-null     int64         \n",
      " 4   birth_date                41 non-null     datetime64[ns]\n",
      " 5   height                    41 non-null     int64         \n",
      " 6   weight                    41 non-null     int64         \n",
      " 7   Overall rating            41 non-null     int64         \n",
      " 8   Potential                 41 non-null     int64         \n",
      " 9   Value                     41 non-null     float64       \n",
      " 10  Wage                      41 non-null     float64       \n",
      " 11  Preferred foot            41 non-null     object        \n",
      " 12  Skill moves               41 non-null     int64         \n",
      " 13  Weak foot                 41 non-null     int64         \n",
      " 14  International reputation  41 non-null     int64         \n",
      " 15  Body type                 41 non-null     object        \n",
      " 16  Real face                 41 non-null     object        \n",
      " 17  Release clause            41 non-null     float64       \n",
      " 18  Acceleration Type         41 non-null     object        \n",
      " 19  Player specialities       41 non-null     object        \n",
      " 20  PlayStyles                41 non-null     object        \n",
      " 21  Club                      41 non-null     object        \n",
      " 22  National Team             41 non-null     object        \n",
      "dtypes: datetime64[ns](1), float64(3), int64(9), object(10)\n",
      "memory usage: 7.5+ KB\n"
     ]
    }
   ],
   "source": [
    "df.info()"
   ]
  },
  {
   "cell_type": "code",
   "execution_count": null,
   "metadata": {},
   "outputs": [],
   "source": [
    "df.to_csv('./fifa_transform_load/transform_data/player/players_{}.csv'.format(str(datetime.now())), index= False)"
   ]
  }
 ],
 "metadata": {
  "kernelspec": {
   "display_name": "Python 3",
   "language": "python",
   "name": "python3"
  },
  "language_info": {
   "codemirror_mode": {
    "name": "ipython",
    "version": 3
   },
   "file_extension": ".py",
   "mimetype": "text/x-python",
   "name": "python",
   "nbconvert_exporter": "python",
   "pygments_lexer": "ipython3",
   "version": "3.13.0"
  }
 },
 "nbformat": 4,
 "nbformat_minor": 2
}
